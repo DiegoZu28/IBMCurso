{
 "cells": [
  {
   "cell_type": "markdown",
   "id": "818d67dc-1368-4f63-ab2d-b45f78fad4f5",
   "metadata": {},
   "source": [
    "# Data Science Tools and Ecosystem"
   ]
  },
  {
   "cell_type": "markdown",
   "id": "5d567402-1766-49c4-bba6-4a739432e696",
   "metadata": {},
   "source": [
    "En este cuaderno, se resumen las herramientas y ecosistemas de ciencia de datos.\n",
    "\n",
    "In this notebook, Data Science Tools and Ecosystem are summarized."
   ]
  },
  {
   "cell_type": "markdown",
   "id": "48c42eb4-7845-4f5f-8cfb-611208ebb08c",
   "metadata": {},
   "source": [
    "Objetivos:\n",
    "\n",
    "-  **Listar lenguajes populares para Ciencia de Datos**\n",
    "-  **Listar bibliotecas utilizadas para Ciencia de Datos**\n",
    "-  **Familiarizarse con Python**\n",
    "\n",
    "Objectives:\n",
    "\n",
    "- **List popular languages ​​for Data Science**\n",
    "- **List libraries used for Data Science**\n",
    "- **Get familiar with Python**\n",
    "\n"
   ]
  },
  {
   "cell_type": "markdown",
   "id": "3b2f0388-0ff4-4bdd-9fd0-955fbec1fb7c",
   "metadata": {},
   "source": [
    "Algunos de los lenguajes populares que utilizan los cientificos de datos son:\n",
    "\n",
    "1. Python\n",
    "2. R\n",
    "3. SQL\n",
    "\n",
    "Some of the popular languages that Data Scientists use are:\n",
    "\n",
    "1. Python\n",
    "2. R\n",
    "3. SQL"
   ]
  },
  {
   "cell_type": "markdown",
   "id": "f8b8cb5a-0e9c-409d-a7f1-b081504fecf4",
   "metadata": {},
   "source": [
    "Algunas de las bibliotecas comúnmente utilizadas por los científicos de datos incluyen:\n",
    "\n",
    "1. pandas\n",
    "2. numpy\n",
    "3. scikit-learn\n",
    "\n",
    "Some of the commonly used libraries used by Data Scientists include:\n",
    "\n",
    "1. pandas\n",
    "2. numpy\n",
    "3. scikit-learn\n"
   ]
  },
  {
   "cell_type": "markdown",
   "id": "332f6be4-26b9-4cff-98a5-06c299403157",
   "metadata": {},
   "source": [
    "| Herramientas de Ciencia de Datos | \n",
    "|----------|\n",
    "| Python    |\n",
    "| R   |\n",
    "| PowerBI    | \n",
    "\n",
    "\n",
    "| Data Science Tools | \n",
    "|----------|\n",
    "| Python    |\n",
    "| R   |\n",
    "| PowerBI    | "
   ]
  },
  {
   "cell_type": "markdown",
   "id": "826e619e-c1ed-4a82-8734-1adf728f9981",
   "metadata": {},
   "source": [
    "### A continuación, se presentan algunos ejemplos de evaluación de expresiones aritméticas en Python\n",
    "\n",
    "### Below are a few examples of evaluating arithmetic expressions in Python"
   ]
  },
  {
   "cell_type": "code",
   "execution_count": 1,
   "id": "bd95e3c6-e2b7-417e-b454-30b384e4a806",
   "metadata": {},
   "outputs": [
    {
     "name": "stdout",
     "output_type": "stream",
     "text": [
      "17\n"
     ]
    }
   ],
   "source": [
    "# Esta es una expresión aritmética simple para multiplicar y luego sumar y restar\n",
    "# This a simple arithmetic expression to mutiply then add integers\n",
    "print( (3 * 4) + 5 )"
   ]
  },
  {
   "cell_type": "code",
   "execution_count": 4,
   "id": "177d4c26-99d7-4282-ada6-db1ba47c2c82",
   "metadata": {},
   "outputs": [
    {
     "name": "stdout",
     "output_type": "stream",
     "text": [
      "3.33\n"
     ]
    }
   ],
   "source": [
    "# Esto convertirá 200 minutos a horas dividiendo por 60\n",
    "# This will convert 200 minutes to hours by diving by 60\n",
    "\n",
    "min = 200\n",
    "hr = 200 / 60\n",
    "print(round(hr, 2))\n"
   ]
  },
  {
   "cell_type": "markdown",
   "id": "3a2acfc0-aa32-40d8-a6a1-c6630648b207",
   "metadata": {},
   "source": []
  }
 ],
 "metadata": {
  "kernelspec": {
   "display_name": "Python 3 (ipykernel)",
   "language": "python",
   "name": "python3"
  },
  "language_info": {
   "codemirror_mode": {
    "name": "ipython",
    "version": 3
   },
   "file_extension": ".py",
   "mimetype": "text/x-python",
   "name": "python",
   "nbconvert_exporter": "python",
   "pygments_lexer": "ipython3",
   "version": "3.12.7"
  }
 },
 "nbformat": 4,
 "nbformat_minor": 5
}
